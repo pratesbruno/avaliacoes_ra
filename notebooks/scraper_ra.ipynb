{
 "cells": [
  {
   "cell_type": "markdown",
   "id": "consolidated-creek",
   "metadata": {},
   "source": [
    "# Scraping reviews from Reclame Aqui website"
   ]
  },
  {
   "cell_type": "markdown",
   "id": "familiar-orbit",
   "metadata": {},
   "source": [
    "## Imports"
   ]
  },
  {
   "cell_type": "code",
   "execution_count": 1,
   "id": "based-birmingham",
   "metadata": {},
   "outputs": [],
   "source": [
    "import requests\n",
    "from bs4 import BeautifulSoup\n",
    "import numpy as np\n",
    "import pandas as pd\n",
    "from selenium import webdriver\n",
    "from selenium.webdriver.chrome.options import Options\n",
    "import time\n",
    "#import matplotlib.pyplot as plt\n",
    "#%matplotlib inline\n"
   ]
  },
  {
   "cell_type": "markdown",
   "id": "known-pharmacy",
   "metadata": {},
   "source": [
    "## Create driver"
   ]
  },
  {
   "cell_type": "code",
   "execution_count": 2,
   "id": "controlled-sampling",
   "metadata": {},
   "outputs": [],
   "source": [
    "options = Options()\n",
    "options.add_argument('--headless')\n",
    "options.add_argument('--disable-gpu')\n",
    "driver = webdriver.Chrome(options=options)"
   ]
  },
  {
   "cell_type": "markdown",
   "id": "outstanding-emperor",
   "metadata": {},
   "source": [
    "## Create Url"
   ]
  },
  {
   "cell_type": "code",
   "execution_count": 3,
   "id": "cubic-turkey",
   "metadata": {},
   "outputs": [],
   "source": [
    "def create_url(company, page):\n",
    "    return f'https://www.reclameaqui.com.br/empresa/{company}/lista-reclamacoes/?pagina={page}'"
   ]
  },
  {
   "cell_type": "code",
   "execution_count": 30,
   "id": "fiscal-southwest",
   "metadata": {},
   "outputs": [
    {
     "data": {
      "text/plain": [
       "'https://www.reclameaqui.com.br/empresa/upnid/lista-reclamacoes/?pagina=1'"
      ]
     },
     "execution_count": 30,
     "metadata": {},
     "output_type": "execute_result"
    }
   ],
   "source": [
    "company = 'upnid'\n",
    "page = 1\n",
    "url = create_url(company, page)\n",
    "url"
   ]
  },
  {
   "cell_type": "markdown",
   "id": "offshore-johns",
   "metadata": {},
   "source": [
    "## Get complaints"
   ]
  },
  {
   "cell_type": "code",
   "execution_count": 106,
   "id": "complex-mathematics",
   "metadata": {},
   "outputs": [],
   "source": [
    "def get_html(driver, url):\n",
    "    begin = time.time()\n",
    "    driver.get(url)\n",
    "    time.sleep(1)\n",
    "    end = time.time()\n",
    "    if True :#end - begin >= 1:\n",
    "        driver.refresh()\n",
    "        script = (\"return document.getElements\"\n",
    "        \"ByTagName('html')[0].innerHTML\")\n",
    "        html = driver.execute_script(script)\n",
    "        time.sleep(1)\n",
    "    return html"
   ]
  },
  {
   "cell_type": "code",
   "execution_count": 8,
   "id": "distant-hughes",
   "metadata": {},
   "outputs": [],
   "source": [
    "#def get_complaint_titles(html):\n",
    "#    title_list = []\n",
    "#    soup = BeautifulSoup(html, \"html.parser\")\n",
    "#    titles = soup.find_all('p', class_=\"text-title\")\n",
    "#    for i in range(len(titles)):\n",
    "#        title_list.append(titles[i]['title'])\n",
    "#        \n",
    "#    return title_list"
   ]
  },
  {
   "cell_type": "code",
   "execution_count": 85,
   "id": "sharp-pilot",
   "metadata": {},
   "outputs": [],
   "source": [
    "def get_complaints(html):\n",
    "    soup = BeautifulSoup(html, \"html.parser\")\n",
    "    complaints = soup.find_all(class_=\"link-complain-id-complains\")\n",
    "    return complaints"
   ]
  },
  {
   "cell_type": "code",
   "execution_count": 53,
   "id": "protective-cabin",
   "metadata": {},
   "outputs": [],
   "source": [
    "def get_titles(complaints_chunk):\n",
    "    title_list = []\n",
    "    for i in range(len(complaints_chunk)):\n",
    "        title_list.append(complaints_chunk[i].text.strip())\n",
    "    return title_list"
   ]
  },
  {
   "cell_type": "code",
   "execution_count": 90,
   "id": "natural-assurance",
   "metadata": {},
   "outputs": [],
   "source": [
    "def get_links(complaints):\n",
    "    link_list = []\n",
    "    start_url = 'https://www.reclameaqui.com.br'\n",
    "    for i in range(len(complaints)):\n",
    "        link = (start_url + complaints[i].get('href'))\n",
    "        link_list.append(link)\n",
    "    return link_list"
   ]
  },
  {
   "cell_type": "code",
   "execution_count": 10,
   "id": "bulgarian-carnival",
   "metadata": {},
   "outputs": [],
   "source": [
    "def get_complaint_content(html):\n",
    "    soup = BeautifulSoup(html, \"html.parser\")\n",
    "    return soup.find_all('p', class_=\"ng-binding\")[9].contents[0]"
   ]
  },
  {
   "cell_type": "code",
   "execution_count": 101,
   "id": "surprising-remark",
   "metadata": {},
   "outputs": [],
   "source": [
    "def get_titles_and_links(company, num_pages, driver):\n",
    "    titles = []\n",
    "    links = []\n",
    "    for i in range(1, num_pages+1):\n",
    "        page_url = create_url(company, i)\n",
    "        page_html = get_html(driver, page_url)\n",
    "        page_complaints = get_complaints(page_html)\n",
    "        page_titles = get_titles(page_complaints)\n",
    "        page_links = get_links(page_complaints)\n",
    "        \n",
    "        titles += page_titles\n",
    "        links += page_links\n",
    "        \n",
    "    return titles, links"
   ]
  },
  {
   "cell_type": "code",
   "execution_count": 107,
   "id": "laden-binding",
   "metadata": {},
   "outputs": [
    {
     "data": {
      "text/plain": [
       "([], [])"
      ]
     },
     "execution_count": 107,
     "metadata": {},
     "output_type": "execute_result"
    }
   ],
   "source": [
    "get_titles_and_links('upnid',2,driver)"
   ]
  },
  {
   "cell_type": "code",
   "execution_count": 31,
   "id": "unavailable-colon",
   "metadata": {},
   "outputs": [],
   "source": [
    "html = get_html(driver,url)"
   ]
  },
  {
   "cell_type": "code",
   "execution_count": 86,
   "id": "verified-velvet",
   "metadata": {},
   "outputs": [],
   "source": [
    "complaints = get_complaints(html)"
   ]
  },
  {
   "cell_type": "code",
   "execution_count": 87,
   "id": "checked-inquiry",
   "metadata": {},
   "outputs": [
    {
     "data": {
      "text/plain": [
       "bs4.element.Tag"
      ]
     },
     "execution_count": 87,
     "metadata": {},
     "output_type": "execute_result"
    }
   ],
   "source": [
    "type(complaints_chunk[0])"
   ]
  },
  {
   "cell_type": "code",
   "execution_count": 88,
   "id": "convertible-scanning",
   "metadata": {},
   "outputs": [
    {
     "data": {
      "text/plain": [
       "['compra TV global',\n",
       " 'faggio store',\n",
       " 'compra não recebida',\n",
       " 'robô brinquedo nao chegou.',\n",
       " 'Cobranças indevidas',\n",
       " 'Compra sem esposta',\n",
       " 'Produtos nao entrgues',\n",
       " 'Quero a devolução do valor pago',\n",
       " 'Não recebi meu aparelho',\n",
       " 'Não recebi meu pedido']"
      ]
     },
     "execution_count": 88,
     "metadata": {},
     "output_type": "execute_result"
    }
   ],
   "source": [
    "titles_1 = get_titles(complaints)\n",
    "titles_1"
   ]
  },
  {
   "cell_type": "code",
   "execution_count": 89,
   "id": "dental-amino",
   "metadata": {},
   "outputs": [
    {
     "data": {
      "text/plain": [
       "['https://www.reclameaqui.com.br/upnid/compra-tv-global_6fe6i3TBUozMqFED/',\n",
       " 'https://www.reclameaqui.com.br/upnid/faggio-store_L-T5i0Nd-r7rgJay/',\n",
       " 'https://www.reclameaqui.com.br/upnid/compra-nao-recebida_CpzaKA0xzMAU1dIk/',\n",
       " 'https://www.reclameaqui.com.br/upnid/robo-brinquedo-nao-chegou_WrHtEhJA5xNQOzZ_/',\n",
       " 'https://www.reclameaqui.com.br/upnid/cobrancas-indevidas_0v3N1IELY8JAhuZH/',\n",
       " 'https://www.reclameaqui.com.br/upnid/compra-sem-esposta_Jhm38oLaer15CJNY/',\n",
       " 'https://www.reclameaqui.com.br/upnid/produtos-nao-entrgues_BDWAiVl2OfeNd0b-/',\n",
       " 'https://www.reclameaqui.com.br/upnid/quero-a-devolucao-do-valor-pago_JXJSxB1fy7iEbaUL/',\n",
       " 'https://www.reclameaqui.com.br/upnid/nao-recebi-meu-aparelho_ZZNM-s5d30WHIfPS/',\n",
       " 'https://www.reclameaqui.com.br/upnid/nao-recebi-meu-pedido_dCStTq3mwSLhXz6p/']"
      ]
     },
     "execution_count": 89,
     "metadata": {},
     "output_type": "execute_result"
    }
   ],
   "source": [
    "links_1 = get_links(complaints)\n",
    "links_1"
   ]
  },
  {
   "cell_type": "code",
   "execution_count": 81,
   "id": "loving-calculator",
   "metadata": {},
   "outputs": [],
   "source": [
    "def get_content(links):\n",
    "    content_list = []\n",
    "    for i in range(len(links)):\n",
    "        url = links_1[i]\n",
    "        html = get_html(driver,url)\n",
    "        print(f'Retrieved {i+1} of {len(links)}')\n",
    "        content = get_complaint_content(html)\n",
    "        content_list.append(content)\n",
    "    return content_list"
   ]
  },
  {
   "cell_type": "code",
   "execution_count": 82,
   "id": "suspended-brisbane",
   "metadata": {},
   "outputs": [
    {
     "name": "stdout",
     "output_type": "stream",
     "text": [
      "Retrieved 1 of 10\n",
      "Retrieved 2 of 10\n",
      "Retrieved 3 of 10\n",
      "Retrieved 4 of 10\n",
      "Retrieved 5 of 10\n",
      "Retrieved 6 of 10\n",
      "Retrieved 7 of 10\n",
      "Retrieved 8 of 10\n",
      "Retrieved 9 of 10\n",
      "Retrieved 10 of 10\n"
     ]
    },
    {
     "data": {
      "text/plain": [
       "['Fiz duas compras na tv global no dia 14/03/2021 com dois cartões de crédito, uma no Valor de 149.00 e outra no valor de 240,00, esta empresa foi quem recebeu o pagamento, peço providencias para resolver o problema ou fazer o reembolso dos.meus cartões de crédito',\n",
       " 'fiz uma compra no dia 28/02 . pela empresa Faggio store. a mesma não entregou o produto. já tentei vários contatos através do imail e o sac. sem sucesso não me deram nenhum retorno. estou me sentido lezada. gostaria que  extornassem o meu cartao ou me reembolsassem o valor da compra 140.50. pois no site diz que a compra é segura pela unip .',\n",
       " 'comprei um produto ja faz  tempo e não a recebi se que mim enviaram o numero  de rastreamento ',\n",
       " 'Em novembro de 2020 comprei um brinquedo robô no site PG UPNIDSUPERONE foi debitado o valor e nao recebi o msm. solicito estorno do valor pago.',\n",
       " 'Tem várias cobranças indevidas no meu cartão de crédito, não reconheço essas compras',\n",
       " 'Então, comprei um produto aí e fiz em dois pagamentos. Já está no segundo desconto e até agora nem sinal sem aviso....nadaaa. como faço????',\n",
       " 'realizado algumas compras no site foi debitado no cartão crédito, porem nao recebi notificação no e-mail.estou sem cód. de rastreio e produtos.',\n",
       " 'Fiz uma compra e faz um mês mais ou menos E n chegou. Quero cancelar e pedi a devolução do valor. ',\n",
       " 'Bom dia sobre meu pedido #3050 Comprei um aparelho TV global pra receber de 7 a 14 dias  isso foi pago dia 2primeiro de março ágora me mandaram cancelamento da minha compra......se vcs cancelaram me manda meu dinheiro de volta ',\n",
       " 'Comprei uma máquina de tosar, dia 31/01/2020, só me enviaram um e-mail confirmando pagamento por upnid mundo pet ..não respondem whatsapp.nao recebi a mercadoria,Mas já cobraram do meu cartão.']"
      ]
     },
     "execution_count": 82,
     "metadata": {},
     "output_type": "execute_result"
    }
   ],
   "source": [
    "get_content(links_1)"
   ]
  },
  {
   "cell_type": "code",
   "execution_count": 33,
   "id": "inside-azerbaijan",
   "metadata": {},
   "outputs": [],
   "source": [
    "html_complaint = get_html(driver,url_complaint)"
   ]
  },
  {
   "cell_type": "code",
   "execution_count": 34,
   "id": "fundamental-invasion",
   "metadata": {},
   "outputs": [
    {
     "data": {
      "text/plain": [
       "'Produto não entregue'"
      ]
     },
     "execution_count": 34,
     "metadata": {},
     "output_type": "execute_result"
    }
   ],
   "source": [
    "get_complaint_title(html_complaint)"
   ]
  },
  {
   "cell_type": "code",
   "execution_count": 35,
   "id": "treated-mountain",
   "metadata": {},
   "outputs": [
    {
     "data": {
      "text/plain": [
       "'Comprei um processador de alimentos na promoção COMPRE 1 LEVE 2 em 24/02 no valor de R$ 54,80. Até o momento não recebi o produto e nem código de rastreamento.Aguardo uma solução.'"
      ]
     },
     "execution_count": 35,
     "metadata": {},
     "output_type": "execute_result"
    }
   ],
   "source": [
    "get_complaint_content(html_complaint)"
   ]
  },
  {
   "cell_type": "code",
   "execution_count": null,
   "id": "gross-stream",
   "metadata": {},
   "outputs": [],
   "source": []
  }
 ],
 "metadata": {
  "kernelspec": {
   "display_name": "Python 3",
   "language": "python",
   "name": "python3"
  },
  "language_info": {
   "codemirror_mode": {
    "name": "ipython",
    "version": 3
   },
   "file_extension": ".py",
   "mimetype": "text/x-python",
   "name": "python",
   "nbconvert_exporter": "python",
   "pygments_lexer": "ipython3",
   "version": "3.8.6"
  }
 },
 "nbformat": 4,
 "nbformat_minor": 5
}
