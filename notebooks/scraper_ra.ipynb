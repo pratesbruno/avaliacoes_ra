{
 "cells": [
  {
   "cell_type": "markdown",
   "id": "consolidated-creek",
   "metadata": {},
   "source": [
    "# Scraping reviews from Reclame Aqui website"
   ]
  },
  {
   "cell_type": "markdown",
   "id": "familiar-orbit",
   "metadata": {},
   "source": [
    "## Imports"
   ]
  },
  {
   "cell_type": "code",
   "execution_count": 1,
   "id": "based-birmingham",
   "metadata": {},
   "outputs": [],
   "source": [
    "import requests\n",
    "from bs4 import BeautifulSoup\n",
    "import numpy as np\n",
    "import pandas as pd\n",
    "from selenium import webdriver\n",
    "from selenium.webdriver.chrome.options import Options\n",
    "import time\n",
    "#import matplotlib.pyplot as plt\n",
    "#%matplotlib inline"
   ]
  },
  {
   "cell_type": "markdown",
   "id": "known-pharmacy",
   "metadata": {},
   "source": [
    "## Create driver"
   ]
  },
  {
   "cell_type": "code",
   "execution_count": 2,
   "id": "controlled-sampling",
   "metadata": {},
   "outputs": [],
   "source": [
    "options = Options()\n",
    "options.add_argument('--headless')\n",
    "options.add_argument('--disable-gpu')\n",
    "driver = webdriver.Chrome(options=options)"
   ]
  },
  {
   "cell_type": "markdown",
   "id": "offshore-johns",
   "metadata": {},
   "source": [
    "## Define Functions"
   ]
  },
  {
   "cell_type": "code",
   "execution_count": 3,
   "id": "cubic-turkey",
   "metadata": {},
   "outputs": [],
   "source": [
    "def create_url(company, page):\n",
    "    return f'https://www.reclameaqui.com.br/empresa/{company}/lista-reclamacoes/?pagina={page}'"
   ]
  },
  {
   "cell_type": "code",
   "execution_count": 4,
   "id": "challenging-haiti",
   "metadata": {},
   "outputs": [],
   "source": [
    "def get_soup(driver,url):\n",
    "    driver.get(url)\n",
    "    soup = BeautifulSoup(driver.page_source, \"html.parser\")\n",
    "    return soup"
   ]
  },
  {
   "cell_type": "code",
   "execution_count": 5,
   "id": "fluid-junction",
   "metadata": {},
   "outputs": [],
   "source": [
    "def get_complaints(soup):\n",
    "    complaints = soup.find_all(class_=\"link-complain-id-complains\")\n",
    "    return complaints"
   ]
  },
  {
   "cell_type": "code",
   "execution_count": 6,
   "id": "brown-variance",
   "metadata": {},
   "outputs": [],
   "source": [
    "def get_titles(complaints):\n",
    "    title_list = []\n",
    "    for i in range(len(complaints)):\n",
    "        title_list.append(complaints[i].text.strip())\n",
    "    return title_list"
   ]
  },
  {
   "cell_type": "code",
   "execution_count": 7,
   "id": "progressive-above",
   "metadata": {},
   "outputs": [],
   "source": [
    "def get_links(complaints):\n",
    "    link_list = []\n",
    "    start_url = 'https://www.reclameaqui.com.br'\n",
    "    for i in range(len(complaints)):\n",
    "        link = (start_url + complaints[i].get('href'))\n",
    "        link_list.append(link)\n",
    "    return link_list"
   ]
  },
  {
   "cell_type": "code",
   "execution_count": 8,
   "id": "finnish-marker",
   "metadata": {},
   "outputs": [],
   "source": [
    "def get_content(soup):\n",
    "    try:\n",
    "        content = soup.find_all('p', class_=\"ng-binding\")[9].text.strip()\n",
    "        return content\n",
    "    except:\n",
    "        return 'NA'"
   ]
  },
  {
   "cell_type": "code",
   "execution_count": 9,
   "id": "surprising-remark",
   "metadata": {},
   "outputs": [],
   "source": [
    "def get_titles_and_links(company, num_pages, driver):\n",
    "    titles = []\n",
    "    links = []\n",
    "    for i in range(1, num_pages+1):\n",
    "        page_url = create_url(company, i)\n",
    "        page_soup = get_soup(driver, page_url)\n",
    "        page_complaints = get_complaints(page_soup)\n",
    "        page_titles = get_titles(page_complaints)\n",
    "        page_links = get_links(page_complaints)\n",
    "        \n",
    "        titles += page_titles\n",
    "        links += page_links\n",
    "        \n",
    "    return titles, links"
   ]
  },
  {
   "cell_type": "code",
   "execution_count": 10,
   "id": "illegal-extraction",
   "metadata": {},
   "outputs": [],
   "source": [
    "def get_content_list(driver, links):\n",
    "    content_list = []\n",
    "    for i in range(len(links)):\n",
    "        url = links[i]\n",
    "        soup = get_soup(driver,url)\n",
    "        print(f'Retrieved {i+1} of {len(links)}')\n",
    "        content = get_content(soup)\n",
    "        content_list.append(content)\n",
    "    return content_list"
   ]
  },
  {
   "cell_type": "markdown",
   "id": "pressed-plaintiff",
   "metadata": {},
   "source": [
    "## Test Functions"
   ]
  },
  {
   "cell_type": "code",
   "execution_count": 11,
   "id": "answering-headset",
   "metadata": {},
   "outputs": [],
   "source": [
    "titles, links = get_titles_and_links('upnid',2,driver)"
   ]
  },
  {
   "cell_type": "code",
   "execution_count": 12,
   "id": "wicked-jaguar",
   "metadata": {},
   "outputs": [
    {
     "data": {
      "text/plain": [
       "['[Editado pelo Reclame Aqui]',\n",
       " 'Site Shopmakee não aparece mais',\n",
       " 'Comprei um kit de alongamento e ainda não enviaram',\n",
       " 'Compra sem confirmação por e-mail',\n",
       " 'Compra sem retorno',\n",
       " 'MODELADOR ALUVI AIRWRAP 5 EM 1 × 1',\n",
       " 'Produto não entregue',\n",
       " 'Comprei e não recebi',\n",
       " 'Não  recebi o produto',\n",
       " 'compra TV global']"
      ]
     },
     "execution_count": 12,
     "metadata": {},
     "output_type": "execute_result"
    }
   ],
   "source": [
    "titles"
   ]
  },
  {
   "cell_type": "code",
   "execution_count": 13,
   "id": "bulgarian-camera",
   "metadata": {},
   "outputs": [
    {
     "data": {
      "text/plain": [
       "['https://www.reclameaqui.com.br/upnid/titulo_PelzEXcDwMywOdRF/',\n",
       " 'https://www.reclameaqui.com.br/upnid/site-shopmakee-nao-aparece-mais_ZCQCbWAfaWGCRHEI/',\n",
       " 'https://www.reclameaqui.com.br/upnid/comprei-um-kit-de-alongamento-e-ainda-nao-enviaram_rNOlHUMMhnjoJZ55/',\n",
       " 'https://www.reclameaqui.com.br/upnid/compra-sem-confirmacao-por-e-mail_02uYTGiVZrw6m2j8/',\n",
       " 'https://www.reclameaqui.com.br/upnid/compra-sem-retorno_8S7y0uPl-xtVztJc/',\n",
       " 'https://www.reclameaqui.com.br/upnid/modelador-aluvi-airwrap-5-em-1-1_nBOsoPXOHWfNHHll/',\n",
       " 'https://www.reclameaqui.com.br/upnid/produto-nao-entregue_ROOh8Dv36k2GZMy2/',\n",
       " 'https://www.reclameaqui.com.br/upnid/comprei-e-nao-recebi_Yu3dwgC7JUEsG4T9/',\n",
       " 'https://www.reclameaqui.com.br/upnid/nao-recebi-o-produto_08dtax5MJuIRP75O/',\n",
       " 'https://www.reclameaqui.com.br/upnid/compra-tv-global_6fe6i3TBUozMqFED/']"
      ]
     },
     "execution_count": 13,
     "metadata": {},
     "output_type": "execute_result"
    }
   ],
   "source": [
    "links"
   ]
  },
  {
   "cell_type": "code",
   "execution_count": 14,
   "id": "jewish-family",
   "metadata": {},
   "outputs": [
    {
     "name": "stdout",
     "output_type": "stream",
     "text": [
      "Retrieved 1 of 10\n",
      "Retrieved 2 of 10\n",
      "Retrieved 3 of 10\n",
      "Retrieved 4 of 10\n",
      "Retrieved 5 of 10\n",
      "Retrieved 6 of 10\n",
      "Retrieved 7 of 10\n",
      "Retrieved 8 of 10\n",
      "Retrieved 9 of 10\n",
      "Retrieved 10 of 10\n"
     ]
    }
   ],
   "source": [
    "contents = get_content_list(driver,links)"
   ]
  },
  {
   "cell_type": "code",
   "execution_count": 15,
   "id": "contemporary-tennessee",
   "metadata": {},
   "outputs": [
    {
     "data": {
      "text/plain": [
       "['Fiz uma compra em uma loja chamada Montreall dia 16/12/20, questinei o prazo e me falaram 8 semanas. Bom ai vi que era [Editado pelo Reclame Aqui]. O boleto foi emitido pela upnid e nao recebi extorno nem meu produto. Quero uma posiçao porque assim como eu vi varios comprando no facebook.',\n",
       " 'Comprei um modelador de cabelo no shopmakee no dia 28/02 com pagamento pela Upnid e não consigo mais encontrar o site e nem contato com a empresa para saber do produto ou pedir a devolução do pagamento.',\n",
       " 'Comprei e paguei no cartão de crédito à vista dia 18 de março e hoje dia 22 /03 ainda nem postaram  o produto tento falar com a empresa casa das unhas nem respondem , preciso saber quando iram postar nos correios',\n",
       " 'Fiz a compra de um esguicho hoje.Não recebi o e-mail de confirmação do pedido, mas o pagamento já foi aprovado pelo cartão, porém não recebi nada  nem número do pedido nem a  confirmação da compra. Por favor aguardo respostas',\n",
       " 'Fiz uma compra de um mini drone via boleto e não tive retorno nenhum.',\n",
       " 'Comprei uma MODELADOR ALUVI AIRWRAP 5 EM 1 × 1 no site da Bella Store e paguei a vista no boleto da UPNID, já fazem 2 meses e ainda nao recei o produto.Entrei no site pra pedir meu dinheiro de volta e não tem como abrir a disputa.Como eu faço ficarei com o prejuizio?',\n",
       " 'Comprei um suporte para celular na  ZATAN no dia 15.01.21 é no mesmo dia  foi cobrado pela UPNID  e lançado  no meu cartão. Depois disso  não  consigo   entrar no site e nem falar com a vendedora pelo Whatsapp .  Meu pedido é 13748. Nilce feitosa.',\n",
       " 'Olá comprei um kit unha de gel no valor de 119,90 com esta empresa no boleto pra pagamento. Gostaria que vcs resolvessem pra mim por favor. Aguardo seu retorno',\n",
       " 'Comprei uma maquina de tosa e não  tecebi o produto. O numero de telefone informado no site não  existe. Espero que vcs possam resolver o problema.  Pois quero receber meu dinheiro de volta. O valor  é  de 150 reais. Pago com cattao de crédito.  Tenho o email  de confirmação do pagamento com a empresa de vcs como garantia de satisfação.  Aguado o contato de vcs. Ou senão  vou ser obrigada  a mover uma ação contra vcs.  Desde já  agradeço.  Fico em aguardo.',\n",
       " 'Fiz duas compras na tv global no dia 14/03/2021 com dois cartões de crédito, uma no Valor de 149.00 e outra no valor de 240,00, esta empresa foi quem recebeu o pagamento, peço providencias para resolver o problema ou fazer o reembolso dos.meus cartões de crédito']"
      ]
     },
     "execution_count": 15,
     "metadata": {},
     "output_type": "execute_result"
    }
   ],
   "source": [
    "contents"
   ]
  },
  {
   "cell_type": "code",
   "execution_count": null,
   "id": "hazardous-passenger",
   "metadata": {},
   "outputs": [],
   "source": []
  }
 ],
 "metadata": {
  "kernelspec": {
   "display_name": "Python 3",
   "language": "python",
   "name": "python3"
  },
  "language_info": {
   "codemirror_mode": {
    "name": "ipython",
    "version": 3
   },
   "file_extension": ".py",
   "mimetype": "text/x-python",
   "name": "python",
   "nbconvert_exporter": "python",
   "pygments_lexer": "ipython3",
   "version": "3.8.6"
  }
 },
 "nbformat": 4,
 "nbformat_minor": 5
}
