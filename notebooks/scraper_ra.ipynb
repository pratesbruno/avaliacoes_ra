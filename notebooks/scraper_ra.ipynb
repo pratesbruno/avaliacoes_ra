{
 "cells": [
  {
   "cell_type": "markdown",
   "id": "consolidated-creek",
   "metadata": {},
   "source": [
    "# Scraping reviews from Reclame Aqui website"
   ]
  },
  {
   "cell_type": "markdown",
   "id": "familiar-orbit",
   "metadata": {},
   "source": [
    "## Imports"
   ]
  },
  {
   "cell_type": "code",
   "execution_count": 90,
   "id": "based-birmingham",
   "metadata": {},
   "outputs": [],
   "source": [
    "import requests\n",
    "from bs4 import BeautifulSoup\n",
    "import numpy as np\n",
    "import pandas as pd\n",
    "from selenium import webdriver\n",
    "from selenium.webdriver.chrome.options import Options\n",
    "import time\n",
    "#import matplotlib.pyplot as plt\n",
    "#%matplotlib inline\n"
   ]
  },
  {
   "cell_type": "markdown",
   "id": "known-pharmacy",
   "metadata": {},
   "source": [
    "## Create driver"
   ]
  },
  {
   "cell_type": "code",
   "execution_count": 91,
   "id": "controlled-sampling",
   "metadata": {},
   "outputs": [],
   "source": [
    "options = Options()\n",
    "options.add_argument('--headless')\n",
    "options.add_argument('--disable-gpu')\n",
    "driver = webdriver.Chrome(options=options)"
   ]
  },
  {
   "cell_type": "markdown",
   "id": "outstanding-emperor",
   "metadata": {},
   "source": [
    "## Create Url"
   ]
  },
  {
   "cell_type": "code",
   "execution_count": 92,
   "id": "cubic-turkey",
   "metadata": {},
   "outputs": [],
   "source": [
    "def create_url(company, page):\n",
    "    return f'https://www.reclameaqui.com.br/empresa/{company}/lista-reclamacoes/?pagina={page}'"
   ]
  },
  {
   "cell_type": "code",
   "execution_count": 93,
   "id": "fiscal-southwest",
   "metadata": {},
   "outputs": [
    {
     "data": {
      "text/plain": [
       "'https://www.reclameaqui.com.br/empresa/upnid/lista-reclamacoes/?pagina=2'"
      ]
     },
     "execution_count": 93,
     "metadata": {},
     "output_type": "execute_result"
    }
   ],
   "source": [
    "company = 'upnid'\n",
    "page = 2\n",
    "url = create_url(company, page)\n",
    "url"
   ]
  },
  {
   "cell_type": "markdown",
   "id": "offshore-johns",
   "metadata": {},
   "source": [
    "## Get complaints"
   ]
  },
  {
   "cell_type": "code",
   "execution_count": 94,
   "id": "complex-mathematics",
   "metadata": {},
   "outputs": [],
   "source": [
    "def get_html(driver, url):\n",
    "    begin = time.time()\n",
    "    driver.get(url)\n",
    "    end = time.time()\n",
    "    if end - begin >= 1:\n",
    "        driver.refresh()\n",
    "        script = (\"return document.getElements\"\n",
    "        \"ByTagName('html')[0].innerHTML\")\n",
    "        html = driver.execute_script(script)\n",
    "        time.sleep(1)\n",
    "    return html"
   ]
  },
  {
   "cell_type": "code",
   "execution_count": 95,
   "id": "sharp-pilot",
   "metadata": {},
   "outputs": [],
   "source": [
    "def get_complaints(html):\n",
    "    soup = BeautifulSoup(html, \"html.parser\")\n",
    "    complaints = soup.find_all(class_=\"link-complain-id-complains\")\n",
    "    return complaints"
   ]
  },
  {
   "cell_type": "code",
   "execution_count": 145,
   "id": "legendary-scenario",
   "metadata": {},
   "outputs": [],
   "source": [
    "def get_complaint_title(html):\n",
    "    soup = BeautifulSoup(html, \"html.parser\")\n",
    "    return soup2.find_all('h1', class_=\"ng-binding\")[0].contents[0]"
   ]
  },
  {
   "cell_type": "code",
   "execution_count": 125,
   "id": "bulgarian-carnival",
   "metadata": {},
   "outputs": [],
   "source": [
    "def get_complaint_content(html):\n",
    "    soup = BeautifulSoup(html, \"html.parser\")\n",
    "    return soup.find_all('p', class_=\"ng-binding\")"
   ]
  },
  {
   "cell_type": "code",
   "execution_count": 115,
   "id": "pressed-primary",
   "metadata": {},
   "outputs": [],
   "source": [
    "def get_complaint_url(complaints_chunk,num_complaint):\n",
    "    start_url = 'https://www.reclameaqui.com.br'\n",
    "    return start_url + complaints_chunk[num_complaint].get('href')"
   ]
  },
  {
   "cell_type": "code",
   "execution_count": 118,
   "id": "unavailable-colon",
   "metadata": {},
   "outputs": [],
   "source": [
    "html = get_html(driver,url)"
   ]
  },
  {
   "cell_type": "code",
   "execution_count": 111,
   "id": "verified-velvet",
   "metadata": {},
   "outputs": [],
   "source": [
    "complaints_chunk = get_complaints(html)"
   ]
  },
  {
   "cell_type": "code",
   "execution_count": 113,
   "id": "finite-mining",
   "metadata": {
    "scrolled": true
   },
   "outputs": [
    {
     "data": {
      "text/plain": [
       "10"
      ]
     },
     "execution_count": 113,
     "metadata": {},
     "output_type": "execute_result"
    }
   ],
   "source": [
    "len(complaints_chunk)"
   ]
  },
  {
   "cell_type": "code",
   "execution_count": 117,
   "id": "verified-drinking",
   "metadata": {},
   "outputs": [],
   "source": [
    "url_complaint = get_complaint_url(complaints_chunk,3)"
   ]
  },
  {
   "cell_type": "code",
   "execution_count": 119,
   "id": "inside-azerbaijan",
   "metadata": {},
   "outputs": [],
   "source": [
    "html_complaint = get_html(driver,url_complaint)"
   ]
  },
  {
   "cell_type": "code",
   "execution_count": 146,
   "id": "fundamental-invasion",
   "metadata": {},
   "outputs": [
    {
     "data": {
      "text/plain": [
       "'Compra sem esposta'"
      ]
     },
     "execution_count": 146,
     "metadata": {},
     "output_type": "execute_result"
    }
   ],
   "source": [
    "get_complaint_title(html_complaint)"
   ]
  },
  {
   "cell_type": "code",
   "execution_count": 151,
   "id": "treated-mountain",
   "metadata": {},
   "outputs": [
    {
     "data": {
      "text/plain": [
       "[<p class=\"medium-title ng-binding\"></p>,\n",
       " <p class=\"presence-name ng-binding\"></p>,\n",
       " <p class=\"subtitle ng-binding\"></p>,\n",
       " <p class=\"presence-name ng-binding\"></p>,\n",
       " <p class=\"medium-title ng-binding\"></p>,\n",
       " <p class=\"presence-name ng-binding\"></p>,\n",
       " <p class=\"subtitle ng-binding\"></p>,\n",
       " <p class=\"presence-name ng-binding\"></p>,\n",
       " <p class=\"ng-binding\">Upnid</p>,\n",
       " <p class=\"ng-binding\" ng-bind-html=\"reading.complains.description|textModerateDecorator\">Boa noite!Comprei dois aparelhos tvbox da Tv-global, conforme pedido n #3593, no valor de R$ 230,00 no cartão de crédito em 5 parcelas, com pagamento aprovado/pago em 07/03/2021 pela plataforma UPNID.Até a presente data não recebi nem o codigo de ratreio e nem o produto.Já enviei e-mails e não obtive nenhuma resposta da empresa.Tentei contato por telefone e e-mail mas ambos não funcionam.Site:tv-global.pay.yampi.com.brE-mails: contato@tv-global.com, sac@tv-global.com, tv-global@bumpiy.com.brAgradeço se tiver retorno o mais breve possível.</p>,\n",
       " <p class=\"ng-binding\"></p>,\n",
       " <p class=\"form-control-static ng-binding\"></p>,\n",
       " <p class=\"form-control-static ng-binding\"></p>]"
      ]
     },
     "execution_count": 151,
     "metadata": {},
     "output_type": "execute_result"
    }
   ],
   "source": [
    "get_complaint_content(html_complaint)"
   ]
  },
  {
   "cell_type": "code",
   "execution_count": 43,
   "id": "demographic-while",
   "metadata": {},
   "outputs": [],
   "source": [
    "soup2 = BeautifulSoup(html2, \"html.parser\")"
   ]
  },
  {
   "cell_type": "code",
   "execution_count": 52,
   "id": "strange-amino",
   "metadata": {},
   "outputs": [
    {
     "data": {
      "text/plain": [
       "1"
      ]
     },
     "execution_count": 52,
     "metadata": {},
     "output_type": "execute_result"
    }
   ],
   "source": [
    "complain_title = soup2.find_all('h1', class_=\"ng-binding\")\n",
    "complain_content = soup2.find_all('p', class_=\"ng-binding\")\n",
    "len(complain_titles)"
   ]
  },
  {
   "cell_type": "code",
   "execution_count": 144,
   "id": "viral-aging",
   "metadata": {},
   "outputs": [
    {
     "data": {
      "text/plain": [
       "'Compra sem esposta'"
      ]
     },
     "execution_count": 144,
     "metadata": {},
     "output_type": "execute_result"
    }
   ],
   "source": [
    "complain_titles[0].contents[0]"
   ]
  },
  {
   "cell_type": "code",
   "execution_count": 128,
   "id": "verified-burst",
   "metadata": {},
   "outputs": [
    {
     "data": {
      "text/plain": [
       "bs4.element.ResultSet"
      ]
     },
     "execution_count": 128,
     "metadata": {},
     "output_type": "execute_result"
    }
   ],
   "source": [
    "type(complain_titles)"
   ]
  },
  {
   "cell_type": "code",
   "execution_count": 59,
   "id": "painted-interface",
   "metadata": {},
   "outputs": [
    {
     "data": {
      "text/plain": [
       "[<p class=\"medium-title ng-binding\"></p>,\n",
       " <p class=\"presence-name ng-binding\"></p>,\n",
       " <p class=\"subtitle ng-binding\"></p>,\n",
       " <p class=\"presence-name ng-binding\"></p>,\n",
       " <p class=\"medium-title ng-binding\"></p>,\n",
       " <p class=\"presence-name ng-binding\"></p>,\n",
       " <p class=\"subtitle ng-binding\"></p>,\n",
       " <p class=\"presence-name ng-binding\"></p>,\n",
       " <p class=\"ng-binding\">Upnid</p>,\n",
       " <p class=\"ng-binding\" ng-bind-html=\"reading.complains.description|textModerateDecorator\">Então, comprei um produto aí e fiz em dois pagamentos. Já está no segundo desconto e até agora nem sinal sem aviso....nadaaa. como faço????</p>,\n",
       " <p class=\"ng-binding\"></p>,\n",
       " <p class=\"form-control-static ng-binding\"></p>,\n",
       " <p class=\"form-control-static ng-binding\"></p>]"
      ]
     },
     "execution_count": 59,
     "metadata": {},
     "output_type": "execute_result"
    }
   ],
   "source": [
    "complain_content"
   ]
  },
  {
   "cell_type": "code",
   "execution_count": null,
   "id": "surprising-remark",
   "metadata": {},
   "outputs": [],
   "source": []
  }
 ],
 "metadata": {
  "kernelspec": {
   "display_name": "Python 3",
   "language": "python",
   "name": "python3"
  },
  "language_info": {
   "codemirror_mode": {
    "name": "ipython",
    "version": 3
   },
   "file_extension": ".py",
   "mimetype": "text/x-python",
   "name": "python",
   "nbconvert_exporter": "python",
   "pygments_lexer": "ipython3",
   "version": "3.8.6"
  }
 },
 "nbformat": 4,
 "nbformat_minor": 5
}
